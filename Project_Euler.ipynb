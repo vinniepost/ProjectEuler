{
 "cells": [
  {
   "cell_type": "markdown",
   "metadata": {},
   "source": [
    "# Project Euler.net Solutions by Vinnie Post"
   ]
  },
  {
   "cell_type": "markdown",
   "metadata": {},
   "source": [
    "## Imports used trougout the notebook"
   ]
  },
  {
   "cell_type": "code",
   "execution_count": 2,
   "metadata": {},
   "outputs": [],
   "source": [
    "import numpy as np"
   ]
  },
  {
   "cell_type": "markdown",
   "metadata": {},
   "source": [
    "## Classes made to be re-used"
   ]
  },
  {
   "cell_type": "markdown",
   "metadata": {},
   "source": [
    "### Prime numbers class"
   ]
  },
  {
   "cell_type": "code",
   "execution_count": 3,
   "metadata": {},
   "outputs": [],
   "source": [
    "class PrimeStuff(): \n",
    "    \"\"\"Class containing helperfunctions related to prime numbers\n",
    "    \"\"\"   \n",
    "    \n",
    "    def make_prime_list(self, amount:int) -> list:\n",
    "        \"\"\"returns a list of lengt \"amount\"\n",
    "\n",
    "        Args:\n",
    "            amount (int): Lenght of the list, (will go trough a abs function to remove negative integers)\n",
    "\n",
    "        Returns:\n",
    "            list: list containing \"amount\" prime numbers\n",
    "        \"\"\"\n",
    "        if amount == 0:\n",
    "            return []\n",
    "\n",
    "        prime_list = [2]\n",
    "        \n",
    "        while (len(prime_list) < amount):\n",
    "            last_prime = prime_list[-1]\n",
    "            prime_number = self.next_prime(last_prime)\n",
    "            prime_list.append(prime_number)\n",
    "        \n",
    "        return prime_list\n",
    "    \n",
    "    def next_prime(self, number:int) -> int:\n",
    "        \"\"\"Takes in a number and return the next prime number\n",
    "\n",
    "        Args:\n",
    "            number (int): A number\n",
    "\n",
    "        Returns:\n",
    "            int: Returns the next prime number\n",
    "        \"\"\"\n",
    "        found = False\n",
    "        number += 1\n",
    "        while not found:\n",
    "            if self.is_prime(number):\n",
    "                found=True\n",
    "            else:\n",
    "                number += 1\n",
    "                        \n",
    "        return number\n",
    "    \n",
    "    def previous_prime(self, number:int) -> int:\n",
    "        \"\"\"Takes in a number and return the previous prime number\n",
    "\n",
    "        Args:\n",
    "            number (int): A number\n",
    "\n",
    "        Returns:\n",
    "            int: Returns the previous prime number\n",
    "        \"\"\"\n",
    "        found = False\n",
    "        number -= 1\n",
    "        while not found:\n",
    "            if self.is_prime(number):\n",
    "                found=True\n",
    "            else:\n",
    "                number -= 1\n",
    "                        \n",
    "        return number\n",
    "    \n",
    "    def sieve_of_eratosthenes(self, number:int) -> list:\n",
    "        \"\"\"\n",
    "        Generate a list of prime numbers up to the given number using the Sieve of Eratosthenes algorithm.\n",
    "\n",
    "        Args:\n",
    "            number (int): The maximum number in the list.\n",
    "\n",
    "        Returns:\n",
    "            list: A list of prime numbers.\n",
    "        \"\"\"\n",
    "        prime_list = []\n",
    "        prime = [True for i in range(number+1)]\n",
    "        p = 2\n",
    "        while (p * p <= number):\n",
    "            if (prime[p] == True):\n",
    "                for i in range(p * p, number+1, p):\n",
    "                    prime[i] = False\n",
    "            p += 1\n",
    "        \n",
    "        for p in range(2, number):\n",
    "            if prime[p]:\n",
    "                prime_list.append(p)\n",
    "        \n",
    "        return prime_list\n",
    "        \n",
    "    def is_prime(self, number:int) -> bool:\n",
    "        \"\"\"Checks if a number is prime\n",
    "\n",
    "        Args:\n",
    "            number (int): Number to check\n",
    "\n",
    "        Returns:\n",
    "            bool: Returns True if the number is prime, False if not\n",
    "        \"\"\"\n",
    "        if (number == 1 or number == 0):\n",
    "            return True\n",
    "        \n",
    "        for i in range(2,number):\n",
    "            if number%i == 0:\n",
    "                return False\n",
    "        \n",
    "        return True"
   ]
  },
  {
   "cell_type": "markdown",
   "metadata": {},
   "source": [
    "## 1. Multiples of 3 and 5"
   ]
  },
  {
   "cell_type": "markdown",
   "metadata": {},
   "source": [
    "If we list all the natural numbers 10 below that are multiples of 3 or 5, we get and 3,5,6 and 9. The sum of these multiples is 23.\n",
    "Find the sum of all the multiples of 3 and 5 below 1000"
   ]
  },
  {
   "cell_type": "markdown",
   "metadata": {},
   "source": [
    "### Bruteforce way"
   ]
  },
  {
   "cell_type": "code",
   "execution_count": 20,
   "metadata": {},
   "outputs": [
    {
     "name": "stdout",
     "output_type": "stream",
     "text": [
      "233168\n"
     ]
    }
   ],
   "source": [
    "upperbound = 1000\n",
    "lowerbound = 0\n",
    "list_of_multiples = []\n",
    "\n",
    "for i in range(lowerbound,upperbound):\n",
    "    if i%3 == 0 or i%5 == 0:\n",
    "        list_of_multiples.append(i)\n",
    "sum_of_multiples = np.sum(list_of_multiples)\n",
    "print(sum_of_multiples)"
   ]
  },
  {
   "cell_type": "markdown",
   "metadata": {},
   "source": [
    "## 2. Even Fibonacci Numbers"
   ]
  },
  {
   "cell_type": "markdown",
   "metadata": {},
   "source": [
    "Each new term in the Fibonacci sequence is generated by adding the previous two terms. By starting with and 1, 2 the first 10 terms will be: 1, 2, 3, 5, 8, 13, 21, 34, 55, 89\n",
    "\n",
    "By considering the terms in the Fibonacci sequence whose values do not exceed four million, find the sum of the even-valued terms."
   ]
  },
  {
   "cell_type": "markdown",
   "metadata": {},
   "source": [
    "### Bruteforce"
   ]
  },
  {
   "cell_type": "code",
   "execution_count": 17,
   "metadata": {},
   "outputs": [
    {
     "name": "stdout",
     "output_type": "stream",
     "text": [
      "4613732\n"
     ]
    }
   ],
   "source": [
    "upperbound = 4*10**6\n",
    "current_number = 1\n",
    "previous_number = 0\n",
    "even_fab_sum = 0\n",
    "\n",
    "\n",
    "\n",
    "while current_number < upperbound:\n",
    "    temp = current_number\n",
    "    current_number = current_number + previous_number\n",
    "    previous_number = temp\n",
    "    if current_number%2 == 0:\n",
    "        even_fab_sum += current_number\n",
    "\n",
    "print(even_fab_sum)"
   ]
  },
  {
   "cell_type": "markdown",
   "metadata": {},
   "source": [
    "## 3. Largest Prime Factor"
   ]
  },
  {
   "cell_type": "markdown",
   "metadata": {},
   "source": [
    "The prime factors of 13195 are 5, 7, 13 and 29.\n",
    "What is the largest prime factor of the number 600851475143"
   ]
  },
  {
   "cell_type": "markdown",
   "metadata": {},
   "source": [
    "### Bruteforce:"
   ]
  },
  {
   "cell_type": "code",
   "execution_count": 25,
   "metadata": {},
   "outputs": [
    {
     "name": "stdout",
     "output_type": "stream",
     "text": [
      "6857\n"
     ]
    }
   ],
   "source": [
    "number = 600851475143\n",
    "prime_stuff = PrimeStuff()\n",
    "bound = 1000\n",
    "\n",
    "prime_list = prime_stuff.make_prime_list(bound)\n",
    "\n",
    "for prime in prime_list[::-1]:\n",
    "    if number%prime == 0:\n",
    "        print(prime)\n",
    "        break"
   ]
  },
  {
   "cell_type": "markdown",
   "metadata": {},
   "source": [
    "## 4. Largest Palindrome Product"
   ]
  },
  {
   "cell_type": "markdown",
   "metadata": {},
   "source": [
    "A palindromic number reads the same both ways. The largest palindrome made from the product of two 2-digit numbers is $9009 = 91*99$.\n",
    "\n",
    "Find the largest palindrome made from the product of two\n",
    "3-digit numbers."
   ]
  },
  {
   "cell_type": "markdown",
   "metadata": {},
   "source": [
    "### Bruteforce:"
   ]
  },
  {
   "cell_type": "code",
   "execution_count": 26,
   "metadata": {},
   "outputs": [
    {
     "name": "stdout",
     "output_type": "stream",
     "text": [
      "906609\n"
     ]
    }
   ],
   "source": [
    "digit_1 = 999\n",
    "digit_2 = 999\n",
    "palindrome_list = []\n",
    "\n",
    "while digit_1 > 0:\n",
    "    while digit_2 > 0:\n",
    "        number = digit_1*digit_2\n",
    "        if str(number) == str(number)[::-1]:\n",
    "            palindrome_list.append(number)\n",
    "        digit_2 -= 1\n",
    "    digit_2 = 999\n",
    "    digit_1 -= 1\n",
    "    \n",
    "print(max(palindrome_list))"
   ]
  },
  {
   "cell_type": "markdown",
   "metadata": {},
   "source": [
    "## 5. Smallest Multiple"
   ]
  },
  {
   "cell_type": "markdown",
   "metadata": {},
   "source": [
    "2520 is the smallest number that can be divided by each of the numbers from 1 to 10 without any remainder.\n",
    "\n",
    "What is the smallest positive number that is evenly divisible by all of the numbers from 1 to 20?"
   ]
  },
  {
   "cell_type": "markdown",
   "metadata": {},
   "source": [
    "### First Solution: Brute Force"
   ]
  },
  {
   "cell_type": "code",
   "execution_count": 1,
   "metadata": {},
   "outputs": [
    {
     "name": "stdout",
     "output_type": "stream",
     "text": [
      "It's 232792560\n",
      "232792560\n"
     ]
    }
   ],
   "source": [
    "number = 11\n",
    "func_max = 20\n",
    "\n",
    "def check(number):\n",
    "    thing = True\n",
    "    for devider in range(1,func_max+1):\n",
    "        if number % devider != 0:\n",
    "            thing = False\n",
    "            continue\n",
    "        if (devider == func_max) and thing:\n",
    "            print(f\"It's {number}\")\n",
    "            return True\n",
    "    return False\n",
    "\n",
    "found = False\n",
    "while not found:\n",
    "    if check(number):\n",
    "        print(number)\n",
    "        found = True\n",
    "    else:\n",
    "        number += 1"
   ]
  },
  {
   "cell_type": "markdown",
   "metadata": {},
   "source": [
    "### A more optimal solution (as explained by projecteuler.com, but worked out by me)"
   ]
  },
  {
   "cell_type": "code",
   "execution_count": 2,
   "metadata": {},
   "outputs": [
    {
     "name": "stdout",
     "output_type": "stream",
     "text": [
      "[2, 3, 5, 7, 11, 13, 17, 19, 23, 29]\n"
     ]
    }
   ],
   "source": [
    "helperfunctions = PrimeStuff()\n",
    "prime_list = helperfunctions.make_prime_list(10)\n",
    "\n",
    "print(prime_list)"
   ]
  },
  {
   "cell_type": "code",
   "execution_count": 9,
   "metadata": {},
   "outputs": [
    {
     "name": "stdout",
     "output_type": "stream",
     "text": [
      "232792560.0\n"
     ]
    }
   ],
   "source": [
    "k = 20\n",
    "N = 1\n",
    "i = 0\n",
    "check_item = True\n",
    "limit = np.sqrt(k)\n",
    "p = helperfunctions.make_prime_list(k)\n",
    "a = np.zeros(k)\n",
    "while (p[i] <= k):\n",
    "    a[i] = 1\n",
    "    if (check_item):\n",
    "        if (p[i] <= limit):\n",
    "            a[i] = np.floor(np.log(k)/np.log(p[i]))\n",
    "        else:\n",
    "            check_item = False\n",
    "    N = N * p[i]**a[i]\n",
    "    i += 1\n",
    "print(N)"
   ]
  },
  {
   "cell_type": "markdown",
   "metadata": {},
   "source": [
    "## 6. Sum Square Difference"
   ]
  },
  {
   "cell_type": "markdown",
   "metadata": {},
   "source": [
    "The sum of the squares of the first ten natural numbers is 385, The square of the sum of the first ten natural numbers is 3025. Hence the difference between the sum of the squares of the first ten natural numbers and the square of the sum is 2640. \n",
    "Find the difference between the sum of the squares of the first one hundred natural numbers and the square of the sum."
   ]
  },
  {
   "cell_type": "code",
   "execution_count": 4,
   "metadata": {},
   "outputs": [
    {
     "name": "stdout",
     "output_type": "stream",
     "text": [
      "3025.0-385=2640.0\n"
     ]
    }
   ],
   "source": [
    "biggest = 10\n",
    "sum_squared = (((biggest*biggest)+biggest)/2)**2\n",
    "\n",
    "squared_sum = 0\n",
    "for i in range(1,biggest+1):\n",
    "    squared_sum += (i*i)\n",
    "\n",
    "print(f\"{sum_squared}-{squared_sum}={sum_squared-squared_sum}\")"
   ]
  },
  {
   "cell_type": "markdown",
   "metadata": {},
   "source": [
    "## 7. 10001st Prime"
   ]
  },
  {
   "cell_type": "markdown",
   "metadata": {},
   "source": [
    "By listing the first six prime numbers: $2,3,5,7,11 \\text{ and } 13$ we can see that the 6th prime is 13.\n",
    "\n",
    "What is the 10001st prime number?"
   ]
  },
  {
   "cell_type": "code",
   "execution_count": 5,
   "metadata": {},
   "outputs": [
    {
     "name": "stdout",
     "output_type": "stream",
     "text": [
      "104743\n"
     ]
    }
   ],
   "source": [
    "helperfunctions = PrimeStuff()\n",
    "print(helperfunctions.make_prime_list(10001)[-1])"
   ]
  },
  {
   "cell_type": "markdown",
   "metadata": {},
   "source": [
    "## 8. Largest Product in a Series (Not ready)"
   ]
  },
  {
   "cell_type": "markdown",
   "metadata": {},
   "source": [
    "The four adjacent digits in the 1000-digit number that have the greatest product are  $$9 * 9 * 8 * 9=5832$$\n",
    "\n",
    "Find the thirteen adjacent digits in the 1000-digit number that have the greatest product. What is the value of this product?"
   ]
  },
  {
   "cell_type": "markdown",
   "metadata": {},
   "source": [
    "Idea : Search for every index of 9's, see if the indexes+len contains a 0, if it does trow it away. perhabs make a dict with \n",
    "\n",
    "Idea : Take the number and make a \"list\"/\"dict\". format:\n",
    "        [index, number]\n",
    "\n",
    "\n",
    "Idea:\n",
    "    "
   ]
  },
  {
   "cell_type": "code",
   "execution_count": 28,
   "metadata": {},
   "outputs": [
    {
     "name": "stdout",
     "output_type": "stream",
     "text": [
      "[(2, 30), (6, 31), (5, 32), (7, 33), (4, 34), (7, 35), (4, 36), (2, 37), (3, 38), (5, 39), (5, 40), (3, 41), (4, 42), (9, 43), (1, 44), (9, 45), (4, 46), (9, 47), (3, 48), (4, 49), (9, 50), (6, 51), (9, 52), (8, 53), (3, 54), (5, 55)]\n"
     ]
    }
   ],
   "source": [
    "series = 7316717653133062491922511967442657474235534919493496983520312774506326239578318016984801869478851843858615607891129494954595017379583319528532088055111254069874715852386305071569329096329522744304355766896648950445244523161731856403098711121722383113622298934233803081353362766142828064444866452387493035890729629049156044077239071381051585930796086670172427121883998797908792274921901699720888093776657273330010533678812202354218097512545405947522435258490771167055601360483958644670632441572215539753697817977846174064955149290862569321978468622482839722413756570560574902614079729686524145351004748216637048440319989000889524345065854122758866688116427171479924442928230863465674813919123162824586178664583591245665294765456828489128831426076900422421902267105562632111110937054421750694165896040807198403850962455444362981230987879927244284909188845801561660979191338754992005240636899125607176060588611646710940507754100225698315520005593572972571636269561882670428252483600823257530420752963450\n",
    "series = str(series)\n",
    "\n",
    "amount = 13\n",
    "\n",
    "number_list = [(int(char), index) for index, char in enumerate(series)]\n",
    "\n",
    "index_9 = []\n",
    "index_0 = []\n",
    "options = []\n",
    "\n",
    "for i in range(0,len(number_list)):\n",
    "    if number_list[i][0] == 9:\n",
    "        index_9.append(i)\n",
    "    if number_list[i][0] == 0:\n",
    "        index_0.append(i)\n",
    "      \n",
    "consucitive = 0\n",
    "for index in index_9:\n",
    "    if index < amount:\n",
    "        lower = 0\n",
    "        upper = amount\n",
    "    elif index > (len(number_list) - amount):\n",
    "        lower = len(number_list) - amount\n",
    "        upper = len(number_list)\n",
    "    else:\n",
    "        lower = index - amount\n",
    "        upper = index + amount\n",
    "    \n",
    "    if 0 not in [number_list[i][0] for i in range(lower,upper)]:\n",
    "        options.append(number_list[lower:upper])"
   ]
  },
  {
   "cell_type": "markdown",
   "metadata": {},
   "source": [
    "## 9. Special Pythagorean Triplet"
   ]
  },
  {
   "cell_type": "markdown",
   "metadata": {},
   "source": [
    "A Pythagorean triplet is a set of three natural numbers, $a < b < c$ , for which\n",
    "$a^2 + b^2 = c^2$\n",
    "For example 3,4,5\n",
    "There exists exactly one Pythagorean triplet for which $a + b + c = 1000.$\n",
    "Find the product of $abc$"
   ]
  },
  {
   "cell_type": "code",
   "execution_count": 29,
   "metadata": {},
   "outputs": [
    {
     "name": "stdout",
     "output_type": "stream",
     "text": [
      "31875000\n",
      "31875000\n"
     ]
    }
   ],
   "source": [
    "def is_pythagorean_triplet(a,b,c):\n",
    "    if a**2 + b**2 == c**2:\n",
    "        return True\n",
    "    else:\n",
    "        return False\n",
    "\n",
    "for a in range(1,1000):\n",
    "    for b in range(1,1000):\n",
    "        c = 1000-a-b\n",
    "        if c <= 0:\n",
    "            continue\n",
    "        if (a+b+c) != 1000:\n",
    "            continue\n",
    "        if is_pythagorean_triplet(a,b,c):\n",
    "            print(a*b*c)    "
   ]
  },
  {
   "cell_type": "markdown",
   "metadata": {},
   "source": [
    "## 10. Summation of Primes"
   ]
  },
  {
   "cell_type": "markdown",
   "metadata": {},
   "source": [
    "The sum of the primes below $10$ is $2+3+5+7=17$.\n",
    "\n",
    "Find the sum of all the primes below two million."
   ]
  },
  {
   "cell_type": "markdown",
   "metadata": {},
   "source": [
    "### Bruteforce"
   ]
  },
  {
   "cell_type": "code",
   "execution_count": null,
   "metadata": {},
   "outputs": [],
   "source": [
    "prime_stuff = PrimeStuff()\n",
    "upperbound = 2000000\n",
    "\n",
    "prime_list = [2]\n",
    "while prime_list[-1] < upperbound:\n",
    "    prime_list.append(prime_stuff.next_prime(prime_list[-1]))\n",
    "prime_list.pop()"
   ]
  },
  {
   "cell_type": "markdown",
   "metadata": {},
   "source": [
    "### Generating the list above takes a long time to generate (more then 220 minutes)"
   ]
  },
  {
   "cell_type": "markdown",
   "metadata": {},
   "source": [
    "From the solution documentation I found out about the Sieve of Eratosthenes. I implemented this in the PrimeStuff class.\n",
    "The script now takes 0.3s instead of 220 minutes"
   ]
  },
  {
   "cell_type": "code",
   "execution_count": 4,
   "metadata": {},
   "outputs": [
    {
     "name": "stdout",
     "output_type": "stream",
     "text": [
      "142913828922\n"
     ]
    }
   ],
   "source": [
    "prime_stuff = PrimeStuff()\n",
    "upperbound = 2000000\n",
    "prime_list = prime_stuff.sieve_of_eratosthenes(upperbound)\n",
    "print(sum(prime_list))"
   ]
  },
  {
   "cell_type": "markdown",
   "metadata": {},
   "source": []
  },
  {
   "cell_type": "markdown",
   "metadata": {},
   "source": [
    "## 11. Largest Product in a Grid"
   ]
  },
  {
   "cell_type": "markdown",
   "metadata": {},
   "source": [
    "In the grid $20 \\times 20$ below, four numbers along a diagonal line have been marked in red.\n",
    "$$\n",
    "08 02 22 97 38 15 00 40 00 75 04 05 07 78 52 12 50 77 91 08\\\\\n",
    "49 49 99 40 17 81 18 57 60 87 17 40 98 43 69 48 04 56 62 00\\\\\n",
    "81 49 31 73 55 79 14 29 93 71 40 67 53 88 30 03 49 13 36 65\\\\\n",
    "52 70 95 23 04 60 11 42 69 24 68 56 01 32 56 71 37 02 36 91\\\\\n",
    "22 31 16 71 51 67 63 89 41 92 36 54 22 40 40 28 66 33 13 80\\\\\n",
    "24 47 32 60 99 03 45 02 44 75 33 53 78 36 84 20 35 17 12 50\\\\\n",
    "32 98 81 28 64 23 67 10 26 38 40 67 59 54 70 66 18 38 64 70\\\\\n",
    "67 26 20 68 02 62 12 20 95 63 94 39 63 08 40 91 66 49 94 21\\\\\n",
    "24 55 58 05 66 73 99 26 97 17 78 78 96 83 14 88 34 89 63 72\\\\\n",
    "21 36 23 09 75 00 76 44 20 45 35 14 00 61 33 97 34 31 33 95\\\\\n",
    "78 17 53 28 22 75 31 67 15 94 03 80 04 62 16 14 09 53 56 92\\\\\n",
    "16 39 05 42 96 35 31 47 55 58 88 24 00 17 54 24 36 29 85 57\\\\\n",
    "86 56 00 48 35 71 89 07 05 44 44 37 44 60 21 58 51 54 17 58\\\\\n",
    "19 80 81 68 05 94 47 69 28 73 92 13 86 52 17 77 04 89 55 40\\\\\n",
    "04 52 08 83 97 35 99 16 07 97 57 32 16 26 26 79 33 27 98 66\\\\\n",
    "88 36 68 87 57 62 20 72 03 46 33 67 46 55 12 32 63 93 53 69\\\\\n",
    "04 42 16 73 38 25 39 11 24 94 72 18 08 46 29 32 40 62 76 36\\\\\n",
    "20 69 36 41 72 30 23 88 34 62 99 69 82 67 59 85 74 04 36 16\\\\\n",
    "20 73 35 29 78 31 90 01 74 31 49 71 48 86 81 16 23 57 05 54\\\\\n",
    "01 70 54 71 83 51 54 69 16 92 33 48 61 43 52 01 89 19 67 48$$"
   ]
  },
  {
   "cell_type": "code",
   "execution_count": 28,
   "metadata": {},
   "outputs": [
    {
     "name": "stdout",
     "output_type": "stream",
     "text": [
      "70600674\n"
     ]
    }
   ],
   "source": [
    "string =\"\"\"08 02 22 97 38 15 00 40 00 75 04 05 07 78 52 12 50 77 91 08\n",
    "49 49 99 40 17 81 18 57 60 87 17 40 98 43 69 48 04 56 62 00\n",
    "81 49 31 73 55 79 14 29 93 71 40 67 53 88 30 03 49 13 36 65\n",
    "52 70 95 23 04 60 11 42 69 24 68 56 01 32 56 71 37 02 36 91\n",
    "22 31 16 71 51 67 63 89 41 92 36 54 22 40 40 28 66 33 13 80\n",
    "24 47 32 60 99 03 45 02 44 75 33 53 78 36 84 20 35 17 12 50\n",
    "32 98 81 28 64 23 67 10 26 38 40 67 59 54 70 66 18 38 64 70\n",
    "67 26 20 68 02 62 12 20 95 63 94 39 63 08 40 91 66 49 94 21\n",
    "24 55 58 05 66 73 99 26 97 17 78 78 96 83 14 88 34 89 63 72\n",
    "21 36 23 09 75 00 76 44 20 45 35 14 00 61 33 97 34 31 33 95\n",
    "78 17 53 28 22 75 31 67 15 94 03 80 04 62 16 14 09 53 56 92\n",
    "16 39 05 42 96 35 31 47 55 58 88 24 00 17 54 24 36 29 85 57\n",
    "86 56 00 48 35 71 89 07 05 44 44 37 44 60 21 58 51 54 17 58\n",
    "19 80 81 68 05 94 47 69 28 73 92 13 86 52 17 77 04 89 55 40\n",
    "04 52 08 83 97 35 99 16 07 97 57 32 16 26 26 79 33 27 98 66\n",
    "88 36 68 87 57 62 20 72 03 46 33 67 46 55 12 32 63 93 53 69\n",
    "04 42 16 73 38 25 39 11 24 94 72 18 08 46 29 32 40 62 76 36\n",
    "20 69 36 41 72 30 23 88 34 62 99 69 82 67 59 85 74 04 36 16\n",
    "20 73 35 29 78 31 90 01 74 31 49 71 48 86 81 16 23 57 05 54\n",
    "01 70 54 71 83 51 54 69 16 92 33 48 61 43 52 01 89 19 67 48\"\"\"\n",
    "\n",
    "string = string.split(\"\\n\")\n",
    "grid = []\n",
    "for line in string:\n",
    "    grid.append(line.split(\" \"))\n",
    "    \n",
    "for line in grid:\n",
    "    for item in line:\n",
    "        grid[grid.index(line)][line.index(item)] = int(item)\n",
    "\n",
    "def check_right(grid:list, x:int, y:int, amount:int) -> int:\n",
    "    if x+amount > len(grid[0]):\n",
    "        return 0\n",
    "    product = 1\n",
    "    for i in range(0,amount):\n",
    "        product *= grid[y][x+i]\n",
    "    return product\n",
    "\n",
    "def check_down(grid:list, x:int, y:int, amount:int) -> int:\n",
    "    if y+amount > len(grid):\n",
    "        return 0\n",
    "    product = 1\n",
    "    for i in range(0,amount):\n",
    "        product *= grid[y+i][x]\n",
    "    return product\n",
    "\n",
    "def check_diagonal_right(grid:list, x:int, y:int, amount:int) -> int:\n",
    "    if x+amount > len(grid[0]) or y+amount > len(grid):\n",
    "        return 0\n",
    "    product = 1\n",
    "    for i in range(0,amount):\n",
    "        product *= grid[y+i][x+i]\n",
    "    return product\n",
    "\n",
    "def check_diagonal_left(grid:list, x:int, y:int, amount:int) -> int:\n",
    "    if x-amount < 0 or y+amount > len(grid):\n",
    "        return 0\n",
    "    product = 1\n",
    "    for i in range(0,amount):\n",
    "        product *= grid[y+i][x-i]\n",
    "    return product\n",
    "\n",
    "def check_all(grid:list, x:int, y:int, amount:int) -> int:\n",
    "    return max(check_right(grid,x,y,amount),check_down(grid,x,y,amount),check_diagonal_right(grid,x,y,amount),check_diagonal_left(grid,x,y,amount))\n",
    "\n",
    "amount = 4\n",
    "biggest = 0\n",
    "for y in range(0,len(grid)):\n",
    "    for x in range(0,len(grid[0])):\n",
    "        biggest = max(check_all(grid,x,y,amount),biggest)\n",
    "print(biggest)\n",
    "\n"
   ]
  },
  {
   "cell_type": "markdown",
   "metadata": {},
   "source": []
  },
  {
   "cell_type": "markdown",
   "metadata": {},
   "source": [
    "## 12. Highly Divisible Triangular Number"
   ]
  },
  {
   "cell_type": "markdown",
   "metadata": {},
   "source": [
    "The sequence of triangle numbers is generated by adding the natural numbers. So the $7^{th}$ triangle number would be $1 +2+3+4+5+6+7=28$. The first ten terms would be: $$1,3,4,6,10,15,21,28,36,45,55,..$$ \n",
    "Let us list the factors of the first seven triangle numbers:\n",
    "$$\n",
    "\\begin{align}\n",
    "1:1 \\\\\n",
    "3:1,3 \\\\\n",
    "6:1,2,3,6 \\\\\n",
    "10:1,2,5,10 \\\\\n",
    "15:1,3,5,15 \\\\\n",
    "21:1,3,7,21 \\\\\n",
    "28:1,2,4,7,14,28\n",
    "\\end{align}\n",
    "$$\n",
    "We can see that 28 is the first triangle number to have over five divisors.\n",
    "What is the value of the first triangle number to have over five hundred divisors?\n"
   ]
  },
  {
   "cell_type": "code",
   "execution_count": 33,
   "metadata": {},
   "outputs": [
    {
     "name": "stdout",
     "output_type": "stream",
     "text": [
      "76576500\n"
     ]
    }
   ],
   "source": [
    "amount_of_devisors = 500\n",
    "triangle_number = 1\n",
    "add = 2\n",
    "while True:\n",
    "    devisors = 0\n",
    "    for i in range(1,int(np.sqrt(triangle_number))+1):\n",
    "        if triangle_number%i == 0:\n",
    "            devisors += 2\n",
    "    if devisors >= amount_of_devisors:\n",
    "        print(triangle_number)\n",
    "        break\n",
    "    triangle_number += add\n",
    "    add += 1\n"
   ]
  },
  {
   "cell_type": "markdown",
   "metadata": {},
   "source": [
    "## 13. Large Sum"
   ]
  },
  {
   "cell_type": "markdown",
   "metadata": {},
   "source": [
    "Work out the first ten digits of the sum of the following one-hundred 50-digit numbers."
   ]
  },
  {
   "cell_type": "markdown",
   "metadata": {},
   "source": [
    "37107287533902102798797998220837590246510135740250\n",
    "46376937677490009712648124896970078050417018260538\n",
    "74324986199524741059474233309513058123726617309629\n",
    "91942213363574161572522430563301811072406154908250\n",
    "23067588207539346171171980310421047513778063246676\n",
    "89261670696623633820136378418383684178734361726757\n",
    "28112879812849979408065481931592621691275889832738\n",
    "44274228917432520321923589422876796487670272189318\n",
    "47451445736001306439091167216856844588711603153276\n",
    "70386486105843025439939619828917593665686757934951\n",
    "62176457141856560629502157223196586755079324193331\n",
    "64906352462741904929101432445813822663347944758178\n",
    "92575867718337217661963751590579239728245598838407\n",
    "58203565325359399008402633568948830189458628227828\n",
    "80181199384826282014278194139940567587151170094390\n",
    "35398664372827112653829987240784473053190104293586\n",
    "86515506006295864861532075273371959191420517255829\n",
    "71693888707715466499115593487603532921714970056938\n",
    "54370070576826684624621495650076471787294438377604\n",
    "53282654108756828443191190634694037855217779295145\n",
    "36123272525000296071075082563815656710885258350721\n",
    "45876576172410976447339110607218265236877223636045\n",
    "17423706905851860660448207621209813287860733969412\n",
    "81142660418086830619328460811191061556940512689692\n",
    "51934325451728388641918047049293215058642563049483\n",
    "62467221648435076201727918039944693004732956340691\n",
    "15732444386908125794514089057706229429197107928209\n",
    "55037687525678773091862540744969844508330393682126\n",
    "18336384825330154686196124348767681297534375946515\n",
    "80386287592878490201521685554828717201219257766954\n",
    "78182833757993103614740356856449095527097864797581\n",
    "16726320100436897842553539920931837441497806860984\n",
    "48403098129077791799088218795327364475675590848030\n",
    "87086987551392711854517078544161852424320693150332\n",
    "59959406895756536782107074926966537676326235447210\n",
    "69793950679652694742597709739166693763042633987085\n",
    "41052684708299085211399427365734116182760315001271\n",
    "65378607361501080857009149939512557028198746004375\n",
    "35829035317434717326932123578154982629742552737307\n",
    "94953759765105305946966067683156574377167401875275\n",
    "88902802571733229619176668713819931811048770190271\n",
    "25267680276078003013678680992525463401061632866526\n",
    "36270218540497705585629946580636237993140746255962\n",
    "24074486908231174977792365466257246923322810917141\n",
    "91430288197103288597806669760892938638285025333403\n",
    "34413065578016127815921815005561868836468420090470\n",
    "23053081172816430487623791969842487255036638784583\n",
    "11487696932154902810424020138335124462181441773470\n",
    "63783299490636259666498587618221225225512486764533\n",
    "67720186971698544312419572409913959008952310058822\n",
    "95548255300263520781532296796249481641953868218774\n",
    "76085327132285723110424803456124867697064507995236\n",
    "37774242535411291684276865538926205024910326572967\n",
    "23701913275725675285653248258265463092207058596522\n",
    "29798860272258331913126375147341994889534765745501\n",
    "18495701454879288984856827726077713721403798879715\n",
    "38298203783031473527721580348144513491373226651381\n",
    "34829543829199918180278916522431027392251122869539\n",
    "40957953066405232632538044100059654939159879593635\n",
    "29746152185502371307642255121183693803580388584903\n",
    "41698116222072977186158236678424689157993532961922\n",
    "62467957194401269043877107275048102390895523597457\n",
    "23189706772547915061505504953922979530901129967519\n",
    "86188088225875314529584099251203829009407770775672\n",
    "11306739708304724483816533873502340845647058077308\n",
    "82959174767140363198008187129011875491310547126581\n",
    "97623331044818386269515456334926366572897563400500\n",
    "42846280183517070527831839425882145521227251250327\n",
    "55121603546981200581762165212827652751691296897789\n",
    "32238195734329339946437501907836945765883352399886\n",
    "75506164965184775180738168837861091527357929701337\n",
    "62177842752192623401942399639168044983993173312731\n",
    "32924185707147349566916674687634660915035914677504\n",
    "99518671430235219628894890102423325116913619626622\n",
    "73267460800591547471830798392868535206946944540724\n",
    "76841822524674417161514036427982273348055556214818\n",
    "97142617910342598647204516893989422179826088076852\n",
    "87783646182799346313767754307809363333018982642090\n",
    "10848802521674670883215120185883543223812876952786\n",
    "71329612474782464538636993009049310363619763878039\n",
    "62184073572399794223406235393808339651327408011116\n",
    "66627891981488087797941876876144230030984490851411\n",
    "60661826293682836764744779239180335110989069790714\n",
    "85786944089552990653640447425576083659976645795096\n",
    "66024396409905389607120198219976047599490197230297\n",
    "64913982680032973156037120041377903785566085089252\n",
    "16730939319872750275468906903707539413042652315011\n",
    "94809377245048795150954100921645863754710598436791\n",
    "78639167021187492431995700641917969777599028300699\n",
    "15368713711936614952811305876380278410754449733078\n",
    "40789923115535562561142322423255033685442488917353\n",
    "44889911501440648020369068063960672322193204149535\n",
    "41503128880339536053299340368006977710650566631954\n",
    "81234880673210146739058568557934581403627822703280\n",
    "82616570773948327592232845941706525094512325230608\n",
    "22918802058777319719839450180888072429661980811197\n",
    "77158542502016545090413245809786882778948721859617\n",
    "72107838435069186155435662884062257473692284509516\n",
    "20849603980134001723930671666823555245252804609722\n",
    "53503534226472524250874054075591789781264330331690"
   ]
  },
  {
   "cell_type": "code",
   "execution_count": 40,
   "metadata": {},
   "outputs": [
    {
     "name": "stdout",
     "output_type": "stream",
     "text": [
      "5537376230\n"
     ]
    }
   ],
   "source": [
    "string = \"\"\"37107287533902102798797998220837590246510135740250\n",
    "46376937677490009712648124896970078050417018260538\n",
    "74324986199524741059474233309513058123726617309629\n",
    "91942213363574161572522430563301811072406154908250\n",
    "23067588207539346171171980310421047513778063246676\n",
    "89261670696623633820136378418383684178734361726757\n",
    "28112879812849979408065481931592621691275889832738\n",
    "44274228917432520321923589422876796487670272189318\n",
    "47451445736001306439091167216856844588711603153276\n",
    "70386486105843025439939619828917593665686757934951\n",
    "62176457141856560629502157223196586755079324193331\n",
    "64906352462741904929101432445813822663347944758178\n",
    "92575867718337217661963751590579239728245598838407\n",
    "58203565325359399008402633568948830189458628227828\n",
    "80181199384826282014278194139940567587151170094390\n",
    "35398664372827112653829987240784473053190104293586\n",
    "86515506006295864861532075273371959191420517255829\n",
    "71693888707715466499115593487603532921714970056938\n",
    "54370070576826684624621495650076471787294438377604\n",
    "53282654108756828443191190634694037855217779295145\n",
    "36123272525000296071075082563815656710885258350721\n",
    "45876576172410976447339110607218265236877223636045\n",
    "17423706905851860660448207621209813287860733969412\n",
    "81142660418086830619328460811191061556940512689692\n",
    "51934325451728388641918047049293215058642563049483\n",
    "62467221648435076201727918039944693004732956340691\n",
    "15732444386908125794514089057706229429197107928209\n",
    "55037687525678773091862540744969844508330393682126\n",
    "18336384825330154686196124348767681297534375946515\n",
    "80386287592878490201521685554828717201219257766954\n",
    "78182833757993103614740356856449095527097864797581\n",
    "16726320100436897842553539920931837441497806860984\n",
    "48403098129077791799088218795327364475675590848030\n",
    "87086987551392711854517078544161852424320693150332\n",
    "59959406895756536782107074926966537676326235447210\n",
    "69793950679652694742597709739166693763042633987085\n",
    "41052684708299085211399427365734116182760315001271\n",
    "65378607361501080857009149939512557028198746004375\n",
    "35829035317434717326932123578154982629742552737307\n",
    "94953759765105305946966067683156574377167401875275\n",
    "88902802571733229619176668713819931811048770190271\n",
    "25267680276078003013678680992525463401061632866526\n",
    "36270218540497705585629946580636237993140746255962\n",
    "24074486908231174977792365466257246923322810917141\n",
    "91430288197103288597806669760892938638285025333403\n",
    "34413065578016127815921815005561868836468420090470\n",
    "23053081172816430487623791969842487255036638784583\n",
    "11487696932154902810424020138335124462181441773470\n",
    "63783299490636259666498587618221225225512486764533\n",
    "67720186971698544312419572409913959008952310058822\n",
    "95548255300263520781532296796249481641953868218774\n",
    "76085327132285723110424803456124867697064507995236\n",
    "37774242535411291684276865538926205024910326572967\n",
    "23701913275725675285653248258265463092207058596522\n",
    "29798860272258331913126375147341994889534765745501\n",
    "18495701454879288984856827726077713721403798879715\n",
    "38298203783031473527721580348144513491373226651381\n",
    "34829543829199918180278916522431027392251122869539\n",
    "40957953066405232632538044100059654939159879593635\n",
    "29746152185502371307642255121183693803580388584903\n",
    "41698116222072977186158236678424689157993532961922\n",
    "62467957194401269043877107275048102390895523597457\n",
    "23189706772547915061505504953922979530901129967519\n",
    "86188088225875314529584099251203829009407770775672\n",
    "11306739708304724483816533873502340845647058077308\n",
    "82959174767140363198008187129011875491310547126581\n",
    "97623331044818386269515456334926366572897563400500\n",
    "42846280183517070527831839425882145521227251250327\n",
    "55121603546981200581762165212827652751691296897789\n",
    "32238195734329339946437501907836945765883352399886\n",
    "75506164965184775180738168837861091527357929701337\n",
    "62177842752192623401942399639168044983993173312731\n",
    "32924185707147349566916674687634660915035914677504\n",
    "99518671430235219628894890102423325116913619626622\n",
    "73267460800591547471830798392868535206946944540724\n",
    "76841822524674417161514036427982273348055556214818\n",
    "97142617910342598647204516893989422179826088076852\n",
    "87783646182799346313767754307809363333018982642090\n",
    "10848802521674670883215120185883543223812876952786\n",
    "71329612474782464538636993009049310363619763878039\n",
    "62184073572399794223406235393808339651327408011116\n",
    "66627891981488087797941876876144230030984490851411\n",
    "60661826293682836764744779239180335110989069790714\n",
    "85786944089552990653640447425576083659976645795096\n",
    "66024396409905389607120198219976047599490197230297\n",
    "64913982680032973156037120041377903785566085089252\n",
    "16730939319872750275468906903707539413042652315011\n",
    "94809377245048795150954100921645863754710598436791\n",
    "78639167021187492431995700641917969777599028300699\n",
    "15368713711936614952811305876380278410754449733078\n",
    "40789923115535562561142322423255033685442488917353\n",
    "44889911501440648020369068063960672322193204149535\n",
    "41503128880339536053299340368006977710650566631954\n",
    "81234880673210146739058568557934581403627822703280\n",
    "82616570773948327592232845941706525094512325230608\n",
    "22918802058777319719839450180888072429661980811197\n",
    "77158542502016545090413245809786882778948721859617\n",
    "72107838435069186155435662884062257473692284509516\n",
    "20849603980134001723930671666823555245252804609722\n",
    "53503534226472524250874054075591789781264330331690\"\"\"\n",
    "\n",
    "numbers = string.split(\"\\n\")\n",
    "numbers = [int(number) for number in numbers]\n",
    "\n",
    "print(str(sum(numbers))[:10])"
   ]
  },
  {
   "cell_type": "markdown",
   "metadata": {},
   "source": [
    "## 14. Longest Collatz Sequence"
   ]
  },
  {
   "cell_type": "markdown",
   "metadata": {},
   "source": [
    "The following iterative sequence is defined for the set of positive integers: $$n \\rarr n/2 (n \\ \\text{is even}) \\\\ n \\rarr 3n+1 (n \\ \\text{is even})$$\n",
    "Using the rule above and starting with 13, we generate the following sequence: $$ 13 \\rarr 40 \\rarr 20 \\rarr 10 \\rarr 5 \\rarr 16 \\rarr 8 \\rarr 4 \\rarr 2 \\rarr 1$$\n",
    "It can be seen that this sequence (starting at 13 and finishing at 1 ) contains 10 terms. Although it has not been proved yet (Collatz Problem), it is thought that all starting numbers finish at 1.\n",
    "Which starting number, under one million, produces the longest chain?\n",
    "\n",
    "NOTE: Once the chain starts the terms are allowed to go above one million."
   ]
  },
  {
   "cell_type": "code",
   "execution_count": 45,
   "metadata": {},
   "outputs": [
    {
     "name": "stdout",
     "output_type": "stream",
     "text": [
      "10000\n",
      "20000\n",
      "30000\n",
      "40000\n",
      "50000\n",
      "60000\n",
      "70000\n",
      "80000\n",
      "90000\n",
      "100000\n",
      "110000\n",
      "120000\n",
      "130000\n",
      "140000\n",
      "150000\n",
      "160000\n",
      "170000\n",
      "180000\n",
      "190000\n",
      "200000\n",
      "210000\n",
      "220000\n",
      "230000\n",
      "240000\n",
      "250000\n",
      "260000\n",
      "270000\n",
      "280000\n",
      "290000\n",
      "300000\n",
      "310000\n",
      "320000\n",
      "330000\n",
      "340000\n",
      "350000\n",
      "360000\n",
      "370000\n",
      "380000\n",
      "390000\n",
      "400000\n",
      "410000\n",
      "420000\n",
      "430000\n",
      "440000\n",
      "450000\n",
      "460000\n",
      "470000\n",
      "480000\n",
      "490000\n",
      "500000\n",
      "510000\n",
      "520000\n",
      "530000\n",
      "540000\n",
      "550000\n",
      "560000\n",
      "570000\n",
      "580000\n",
      "590000\n",
      "600000\n",
      "610000\n",
      "620000\n",
      "630000\n",
      "640000\n",
      "650000\n",
      "660000\n",
      "670000\n",
      "680000\n",
      "690000\n",
      "700000\n",
      "710000\n",
      "720000\n",
      "730000\n",
      "740000\n",
      "750000\n",
      "760000\n",
      "770000\n",
      "780000\n",
      "790000\n",
      "800000\n",
      "810000\n",
      "820000\n",
      "830000\n",
      "840000\n",
      "850000\n",
      "860000\n",
      "870000\n",
      "880000\n",
      "890000\n",
      "900000\n",
      "910000\n",
      "920000\n",
      "930000\n",
      "940000\n",
      "950000\n",
      "960000\n",
      "970000\n",
      "980000\n",
      "990000\n",
      "837799\n"
     ]
    }
   ],
   "source": [
    "upperbound = 1000000\n",
    "longest_chain = []\n",
    "for i in range(1,upperbound):\n",
    "    if i%10000 == 0:\n",
    "        print(i)\n",
    "    number = i\n",
    "    chain = [number]\n",
    "    while number != 1:\n",
    "        if number%2 == 0:\n",
    "            number = number/2\n",
    "        else:\n",
    "            number = 3*number+1\n",
    "        chain.append(number)\n",
    "    if len(chain) > len(longest_chain):\n",
    "        longest_chain = chain\n",
    "print(longest_chain[0])"
   ]
  },
  {
   "cell_type": "markdown",
   "metadata": {},
   "source": [
    "### Optimasation via euler solution"
   ]
  },
  {
   "cell_type": "code",
   "execution_count": 53,
   "metadata": {},
   "outputs": [
    {
     "ename": "TypeError",
     "evalue": "'int' object is not subscriptable",
     "output_type": "error",
     "traceback": [
      "\u001b[0;31m---------------------------------------------------------------------------\u001b[0m",
      "\u001b[0;31mTypeError\u001b[0m                                 Traceback (most recent call last)",
      "Cell \u001b[0;32mIn[53], line 20\u001b[0m\n\u001b[1;32m     18\u001b[0m     \u001b[38;5;28mprint\u001b[39m(i)\n\u001b[1;32m     19\u001b[0m chain_dict[i] \u001b[38;5;241m=\u001b[39m count_chain(i, chain_dict)\n\u001b[0;32m---> 20\u001b[0m \u001b[38;5;28;01mif\u001b[39;00m chain_dict[i] \u001b[38;5;241m>\u001b[39m chain_dict[\u001b[43mlongest_chain\u001b[49m\u001b[43m[\u001b[49m\u001b[38;5;241;43m0\u001b[39;49m\u001b[43m]\u001b[49m]:\n\u001b[1;32m     21\u001b[0m     longest_chain \u001b[38;5;241m=\u001b[39m [i]\n\u001b[1;32m     22\u001b[0m \u001b[38;5;28;01melif\u001b[39;00m chain_dict[i] \u001b[38;5;241m==\u001b[39m chain_dict[longest_chain[\u001b[38;5;241m0\u001b[39m]]:\n",
      "\u001b[0;31mTypeError\u001b[0m: 'int' object is not subscriptable"
     ]
    }
   ],
   "source": [
    "def count_chain(n, chain_dict):\n",
    "    if n in chain_dict:\n",
    "        return chain_dict[n]\n",
    "    count = 1\n",
    "    while n != 1:\n",
    "        if n%2 == 0:\n",
    "            n = n/2\n",
    "        else:\n",
    "            n = 3*n+1\n",
    "        count += 1\n",
    "    return count\n",
    "\n",
    "upperbound = 1000000\n",
    "longest_chain = 0\n",
    "chain_dict = [0]\n",
    "for i in range(1,upperbound):\n",
    "    if i%10000 == 0:\n",
    "        print(i)\n",
    "    chain_dict[i] = count_chain(i, chain_dict)\n",
    "    if chain_dict[i] > chain_dict[longest_chain[0]]:\n",
    "        longest_chain = [i]\n",
    "    elif chain_dict[i] == chain_dict[longest_chain[0]]:\n",
    "        longest_chain.append(i)"
   ]
  },
  {
   "cell_type": "code",
   "execution_count": null,
   "metadata": {},
   "outputs": [],
   "source": []
  }
 ],
 "metadata": {
  "kernelspec": {
   "display_name": "ml",
   "language": "python",
   "name": "python3"
  },
  "language_info": {
   "codemirror_mode": {
    "name": "ipython",
    "version": 3
   },
   "file_extension": ".py",
   "mimetype": "text/x-python",
   "name": "python",
   "nbconvert_exporter": "python",
   "pygments_lexer": "ipython3",
   "version": "3.12.0"
  }
 },
 "nbformat": 4,
 "nbformat_minor": 2
}
